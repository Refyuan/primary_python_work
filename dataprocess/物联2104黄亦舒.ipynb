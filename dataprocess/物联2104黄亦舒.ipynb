{
 "cells": [
  {
   "cell_type": "markdown",
   "source": [
    "#### 物联网数据处理技术实验报告\n",
    "**班级：物联2104**\n",
    "**姓名：黄亦舒**\n",
    "**学号：2111630416**\n",
    "\n",
    "功能：实现对两个py和ipynb文件的代码查重，并print相似度。\n",
    "原理：读取两个文件的代码，比较两个代码向量的距离。"
   ],
   "metadata": {
    "collapsed": false
   },
   "id": "11278cfb55c6c6de"
  },
  {
   "cell_type": "code",
   "execution_count": 7,
   "id": "initial_id",
   "metadata": {
    "collapsed": true,
    "ExecuteTime": {
     "end_time": "2024-06-06T08:22:59.175080600Z",
     "start_time": "2024-06-06T08:22:59.157813200Z"
    }
   },
   "outputs": [],
   "source": [
    "import nbformat\n",
    "from difflib import SequenceMatcher\n",
    "import os\n",
    "\n",
    "def read_notebook(file_path):\n",
    "    with open(file_path, 'r', encoding='utf-8') as f:\n",
    "        return nbformat.read(f, as_version=4)\n",
    "\n",
    "def extract_code_cells(notebook):\n",
    "    code_cells = []\n",
    "    for cell in notebook['cells']:\n",
    "        if cell['cell_type'] == 'code':\n",
    "            code_cells.append(cell['source'])\n",
    "    return code_cells\n",
    "\n",
    "def read_py_file(file_path):\n",
    "    with open(file_path, 'r', encoding='utf-8') as f:\n",
    "        return f.read()\n",
    "\n",
    "def concatenate_code(cells):\n",
    "    return \"\\n\".join(cells)\n",
    "\n",
    "def calculate_similarity(code1, code2):\n",
    "    return SequenceMatcher(None, code1, code2).ratio()\n",
    "\n",
    "def process_file(file_path):\n",
    "    _, ext = os.path.splitext(file_path)\n",
    "    if ext == '.ipynb':\n",
    "        notebook = read_notebook(file_path)\n",
    "        code_cells = extract_code_cells(notebook)\n",
    "        concatenated_code = concatenate_code(code_cells)\n",
    "    elif ext == '.py':\n",
    "        concatenated_code = read_py_file(file_path)\n",
    "    else:\n",
    "        raise ValueError(f\"Unsupported file type: {ext}\")\n",
    "    return concatenated_code\n",
    "\n",
    "def main(file_path1, file_path2):\n",
    "    concatenated_code1 = process_file(file_path1)\n",
    "    concatenated_code2 = process_file(file_path2)\n",
    "    \n",
    "    overall_similarity = calculate_similarity(concatenated_code1, concatenated_code2)\n",
    "    \n",
    "    print(f\"两个文件的相似度为 {overall_similarity*100:.2f}%\")"
   ]
  },
  {
   "cell_type": "markdown",
   "source": [
    ">添加两个要查重的py或ipynb文件的相对路径，写入main方法就可以实现查重。以下是测试。"
   ],
   "metadata": {
    "collapsed": false
   },
   "id": "4573a8ccd2e1118c"
  },
  {
   "cell_type": "code",
   "outputs": [
    {
     "name": "stdout",
     "output_type": "stream",
     "text": [
      "两个文件的相似度为 63.41%\n"
     ]
    }
   ],
   "source": [
    "# 文件路径\n",
    "file_path1 = 'test2.py'\n",
    "file_path2 = 'test1.ipynb'\n",
    "\n",
    "main(file_path1, file_path2)"
   ],
   "metadata": {
    "collapsed": false,
    "ExecuteTime": {
     "end_time": "2024-06-06T08:53:09.166495200Z",
     "start_time": "2024-06-06T08:53:09.151047Z"
    }
   },
   "id": "7082dbe92ca37325",
   "execution_count": 10
  },
  {
   "cell_type": "markdown",
   "source": [],
   "metadata": {
    "collapsed": false
   },
   "id": "6979b4afb1726cda"
  },
  {
   "cell_type": "code",
   "outputs": [],
   "source": [],
   "metadata": {
    "collapsed": false
   },
   "id": "1ea54aa87b229898"
  }
 ],
 "metadata": {
  "kernelspec": {
   "display_name": "Python 3",
   "language": "python",
   "name": "python3"
  },
  "language_info": {
   "codemirror_mode": {
    "name": "ipython",
    "version": 2
   },
   "file_extension": ".py",
   "mimetype": "text/x-python",
   "name": "python",
   "nbconvert_exporter": "python",
   "pygments_lexer": "ipython2",
   "version": "2.7.6"
  }
 },
 "nbformat": 4,
 "nbformat_minor": 5
}
